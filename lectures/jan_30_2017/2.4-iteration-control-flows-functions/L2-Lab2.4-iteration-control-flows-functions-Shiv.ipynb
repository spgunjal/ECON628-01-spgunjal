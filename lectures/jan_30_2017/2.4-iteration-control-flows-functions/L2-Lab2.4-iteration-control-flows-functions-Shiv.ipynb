{
 "cells": [
  {
   "cell_type": "markdown",
   "metadata": {},
   "source": [
    "<img src=\"https://images.efollett.com/htmlroot/images/templates/storeLogos/CA/864.gif\" style=\"float: right;\"> \n",
    "\n",
    "\n",
    "\n",
    "\n",
    "# ECON628-01 \n",
    "### Lecture 2 -  2.4 - Lab - Iteration-control_flows and Functions\n",
    "#### _Note: we are not going to spend much time in this topic => as this was part of your [codeacademy] [1] training_\n",
    "\n",
    "\n",
    "[1]: https://www.codecademy.com/learn/python    \"codeacademy\""
   ]
  },
  {
   "cell_type": "code",
   "execution_count": null,
   "metadata": {
    "collapsed": true
   },
   "outputs": [],
   "source": [
    "import numpy as np\n",
    "import imp\n",
    "import string"
   ]
  },
  {
   "cell_type": "markdown",
   "metadata": {},
   "source": [
    "---\n",
    "\n",
    "### 1. Write an if-else statement to check whether the suitcase is over 50lb.\n",
    "\n",
    "Print a message indicating whether or not the suitcase is over 50lbs."
   ]
  },
  {
   "cell_type": "code",
   "execution_count": 1,
   "metadata": {
    "collapsed": false
   },
   "outputs": [
    {
     "name": "stdout",
     "output_type": "stream",
     "text": [
      "How many pounds does your suitcase weigh? 56\n",
      "Your suitcase weighs more than 50lbs\n"
     ]
    }
   ],
   "source": [
    "weight = float(input(\"How many pounds does your suitcase weigh? \"))\n",
    "if weight =< 50:\n",
    "    print \"Your suitcase doesn't weighs more than 50lbs\"\n",
    "else:\n",
    "    print \"Your suitcase weighs more than 50lbs\""
   ]
  },
  {
   "cell_type": "code",
   "execution_count": null,
   "metadata": {
    "collapsed": false
   },
   "outputs": [],
   "source": []
  },
  {
   "cell_type": "markdown",
   "metadata": {},
   "source": [
    "---\n",
    "\n",
    "### 2. Write an if-else statement for multiple conditions.\n",
    "\n",
    "Print out these recommendations based on the weather conditions:\n",
    "\n",
    "1. Temperature over 60 and rain: bring an umbrella.\n",
    "2. Temperature less than or equal to 60 and rain: bring and umbrella and a jacket.\n",
    "3. Temperature over 60 and shine: wear a t-shirt.\n",
    "4. Temperature less than or equal to 60 and shine: bring a jacket."
   ]
  },
  {
   "cell_type": "code",
   "execution_count": 3,
   "metadata": {
    "collapsed": false
   },
   "outputs": [
    {
     "name": "stdout",
     "output_type": "stream",
     "text": [
      "What is the temperature? 00\n",
      "What is the weather? (rain or shine) 00\n"
     ]
    }
   ],
   "source": [
    "temperature = float(input('What is the temperature? '))\n",
    "weather = raw_input('What is the weather? (rain or shine) ')"
   ]
  },
  {
   "cell_type": "code",
   "execution_count": 1,
   "metadata": {
    "collapsed": false
   },
   "outputs": [
    {
     "name": "stdout",
     "output_type": "stream",
     "text": [
      "What is the temperature? 55\n",
      "What is the weather? (rain or shine) shine\n",
      "Bring a jacket.\n"
     ]
    }
   ],
   "source": [
    "temperature = float(input('What is the temperature? '))\n",
    "weather = raw_input('What is the weather? (rain or shine) ')\n",
    "\n",
    "if temperature >60 and weather == 'rain':\n",
    "    print \"Bring an umbrella.\"\n",
    "elif temperature<=60 and weather == 'rain':\n",
    "    print \"Bring an umbrella and a jacket.\"\n",
    "elif temperature>60 and weather == 'shine':\n",
    "    print \"Wear a t-shirt.\"\n",
    "else:\n",
    "    print \"Bring a jacket.\""
   ]
  },
  {
   "cell_type": "code",
   "execution_count": null,
   "metadata": {
    "collapsed": false
   },
   "outputs": [],
   "source": []
  },
  {
   "cell_type": "markdown",
   "metadata": {},
   "source": [
    "---\n",
    "\n",
    "### 3. Write a for-loop that iterates from the number 1 to the number 15.\n",
    "\n",
    "On each iteration, print out the number."
   ]
  },
  {
   "cell_type": "code",
   "execution_count": 7,
   "metadata": {
    "collapsed": false
   },
   "outputs": [],
   "source": [
    "x = range(0, 100)"
   ]
  },
  {
   "cell_type": "code",
   "execution_count": 10,
   "metadata": {
    "collapsed": false
   },
   "outputs": [
    {
     "name": "stdout",
     "output_type": "stream",
     "text": [
      "0\n",
      "1\n",
      "2\n",
      "3\n",
      "4\n",
      "5\n",
      "6\n",
      "7\n",
      "8\n",
      "9\n",
      "10\n",
      "11\n",
      "12\n",
      "13\n",
      "14\n",
      "15\n"
     ]
    }
   ],
   "source": [
    "for i in x:\n",
    "    if i<=15:\n",
    "        print i\n",
    "    else:\n",
    "        break"
   ]
  },
  {
   "cell_type": "markdown",
   "metadata": {},
   "source": [
    "---\n",
    "\n",
    "### 4. Iterate from 1 to 15, printing whether the number is odd or even.\n",
    "\n",
    "Hint: The modulus operator, `%`, can be used to take the remainder. For example:\n",
    "\n",
    "```python\n",
    "9 % 5 == 4\n",
    "```\n",
    "\n",
    "Or in other words, the remainder of dividing 9 by 5 is 4. "
   ]
  },
  {
   "cell_type": "code",
   "execution_count": 143,
   "metadata": {
    "collapsed": false
   },
   "outputs": [
    {
     "name": "stdout",
     "output_type": "stream",
     "text": [
      "Odd 1\n",
      "Even 2\n",
      "Odd 3\n",
      "Even 4\n",
      "Odd 5\n",
      "Even 6\n",
      "Odd 7\n",
      "Even 8\n",
      "Odd 9\n",
      "Even 10\n",
      "Odd 11\n",
      "Even 12\n",
      "Odd 13\n",
      "Even 14\n",
      "Odd 15\n"
     ]
    }
   ],
   "source": [
    "x = range(1,16)\n",
    "for n in x:\n",
    "    if n % 2==0:\n",
    "        print \"Even\", n\n",
    "        \n",
    "    else:\n",
    "        print \"Odd\", n \n",
    "        "
   ]
  },
  {
   "cell_type": "markdown",
   "metadata": {},
   "source": [
    "---\n",
    "\n",
    "### 5. Iterate from 1 to 30 with the following instructions:\n",
    "\n",
    "1. If a number is divisible by 3, print 'fizz'. \n",
    "2. If a number is divisible by 5, print 'buzz'. \n",
    "3. If a number is both divisible by 3 and 5 print 'fizzbuzz'.\n",
    "4. Otherwise, print just the number."
   ]
  },
  {
   "cell_type": "code",
   "execution_count": 16,
   "metadata": {
    "collapsed": false
   },
   "outputs": [
    {
     "name": "stdout",
     "output_type": "stream",
     "text": [
      "1\n",
      "2\n",
      "fizz\n",
      "4\n",
      "buzz\n",
      "fizz\n",
      "7\n",
      "8\n",
      "fizz\n",
      "buzz\n",
      "11\n",
      "fizz\n",
      "13\n",
      "14\n",
      "fizzbuzz\n",
      "16\n",
      "17\n",
      "fizz\n",
      "19\n",
      "buzz\n",
      "fizz\n",
      "22\n",
      "23\n",
      "fizz\n",
      "buzz\n",
      "26\n",
      "fizz\n",
      "28\n",
      "29\n",
      "fizzbuzz\n"
     ]
    }
   ],
   "source": [
    "x = range(1,31)\n",
    "\n",
    "for n in x:\n",
    "    if n % 3 ==0 and n % 5 ==0:\n",
    "        print \"fizzbuzz\"\n",
    "    elif n % 3 == 0:\n",
    "        print \"fizz\"\n",
    "    elif n % 5 ==0:\n",
    "        print \"buzz\"\n",
    "    else:\n",
    "        print n"
   ]
  },
  {
   "cell_type": "markdown",
   "metadata": {},
   "source": [
    "---\n",
    "\n",
    "### 6. Iterate through the list of animals and print each one, but in all caps."
   ]
  },
  {
   "cell_type": "code",
   "execution_count": 18,
   "metadata": {
    "collapsed": true
   },
   "outputs": [],
   "source": [
    "animals = ['duck', 'rat', 'boar', 'slug', 'mammoth', 'gazelle']"
   ]
  },
  {
   "cell_type": "code",
   "execution_count": 20,
   "metadata": {
    "collapsed": false
   },
   "outputs": [
    {
     "name": "stdout",
     "output_type": "stream",
     "text": [
      "DUCK\n",
      "RAT\n",
      "BOAR\n",
      "SLUG\n",
      "MAMMOTH\n",
      "GAZELLE\n"
     ]
    }
   ],
   "source": [
    "for animal in animals:\n",
    "    \n",
    "    print animal.upper()"
   ]
  },
  {
   "cell_type": "markdown",
   "metadata": {},
   "source": [
    "---\n",
    "\n",
    "### 7. Iterate through the animals. Capitalize the first letter and append the modified animals to a new list."
   ]
  },
  {
   "cell_type": "code",
   "execution_count": 29,
   "metadata": {
    "collapsed": false
   },
   "outputs": [
    {
     "name": "stdout",
     "output_type": "stream",
     "text": [
      "['Duck', 'Rat', 'Boar', 'Slug', 'Mammoth', 'Gazelle']\n"
     ]
    }
   ],
   "source": [
    "new_list = []\n",
    "\n",
    "for animal in animals:\n",
    "    new_list.append(animal.capitalize())\n",
    "\n",
    "print new_list \n"
   ]
  },
  {
   "cell_type": "code",
   "execution_count": 7,
   "metadata": {
    "collapsed": false
   },
   "outputs": [
    {
     "name": "stdout",
     "output_type": "stream",
     "text": [
      "h\n",
      "e\n",
      "l\n",
      "l\n",
      "o\n"
     ]
    }
   ],
   "source": [
    "for char in 'hello':\n",
    "    print char"
   ]
  },
  {
   "cell_type": "code",
   "execution_count": 8,
   "metadata": {
    "collapsed": false
   },
   "outputs": [],
   "source": [
    "new_list = []\n"
   ]
  },
  {
   "cell_type": "markdown",
   "metadata": {},
   "source": [
    "---\n",
    "\n",
    "### 8. Iterate through the animals. Print out the animal name and the number of vowels in the name."
   ]
  },
  {
   "cell_type": "code",
   "execution_count": 63,
   "metadata": {
    "collapsed": false
   },
   "outputs": [
    {
     "name": "stdout",
     "output_type": "stream",
     "text": [
      "Animal name and count of vowels in the name -  duck 1\n",
      "Animal name and count of vowels in the name -  rat 1\n",
      "Animal name and count of vowels in the name -  boar 2\n",
      "Animal name and count of vowels in the name -  slug 1\n",
      "Animal name and count of vowels in the name -  mammoth 2\n",
      "Animal name and count of vowels in the name -  gazelle 3\n"
     ]
    }
   ],
   "source": [
    "vowels = ['a', 'e', 'i', 'o', 'u']\n",
    "for animal in animals:\n",
    "    vo=0\n",
    "    for ach in animal:\n",
    "        if ach in vowels:\n",
    "            vo = vo +1\n",
    "             \n",
    "    print \"Animal name and count of vowels in the name - \",animal,vo            "
   ]
  },
  {
   "cell_type": "code",
   "execution_count": null,
   "metadata": {
    "collapsed": true
   },
   "outputs": [],
   "source": []
  },
  {
   "cell_type": "code",
   "execution_count": 62,
   "metadata": {
    "collapsed": false
   },
   "outputs": [
    {
     "name": "stdout",
     "output_type": "stream",
     "text": [
      "Animal name and count of vowels in the name -  duck 1\n",
      "Animal name and count of vowels in the name -  rat 1\n",
      "Animal name and count of vowels in the name -  boar 2\n",
      "Animal name and count of vowels in the name -  slug 1\n",
      "Animal name and count of vowels in the name -  mammoth 2\n",
      "Animal name and count of vowels in the name -  gazelle 3\n"
     ]
    }
   ],
   "source": [
    "vowels = 'aeiou'\n",
    "for animal in animals:\n",
    "    vo=0\n",
    "    for ach in animal:\n",
    "        if ach in vowels:\n",
    "            vo = vo +1\n",
    "             \n",
    "    print \"Animal name and count of vowels in the name - \",animal,vo"
   ]
  },
  {
   "cell_type": "markdown",
   "metadata": {},
   "source": [
    "---\n",
    "\n",
    "### 9. Write a function that takes word as an argument and returns the number of vowels in the word.\n",
    "\n",
    "Try it out on 3 words."
   ]
  },
  {
   "cell_type": "code",
   "execution_count": 191,
   "metadata": {
    "collapsed": false
   },
   "outputs": [],
   "source": [
    "def v_count(word):\n",
    "    vowels = \"aeiou\"\n",
    "    word = word.lower()\n",
    "    return sum(letter in vowels for letter in word)\n"
   ]
  },
  {
   "cell_type": "code",
   "execution_count": 193,
   "metadata": {
    "collapsed": false
   },
   "outputs": [
    {
     "data": {
      "text/plain": [
       "2"
      ]
     },
     "execution_count": 193,
     "metadata": {},
     "output_type": "execute_result"
    }
   ],
   "source": [
    "v_count('mammoth')"
   ]
  },
  {
   "cell_type": "markdown",
   "metadata": {},
   "source": [
    "### 9B: Re-write `arbitrary_count` so that case doesn't matter"
   ]
  },
  {
   "cell_type": "code",
   "execution_count": 11,
   "metadata": {
    "collapsed": false
   },
   "outputs": [
    {
     "data": {
      "text/plain": [
       "False"
      ]
     },
     "execution_count": 11,
     "metadata": {},
     "output_type": "execute_result"
    }
   ],
   "source": [
    "'a' == 'A'"
   ]
  },
  {
   "cell_type": "code",
   "execution_count": null,
   "metadata": {
    "collapsed": true
   },
   "outputs": [],
   "source": [
    "#I am not sure whats expected in this question\n",
    "def arbitrary_count(str1,str2):\n",
    "    if str1.lower() == str2.lower():\n",
    "        print \"The strings are the same (case insensitive)\"\n",
    "    else:\n",
    "        print \"The strings are not the same (case insensitive)\""
   ]
  },
  {
   "cell_type": "code",
   "execution_count": null,
   "metadata": {
    "collapsed": true
   },
   "outputs": [],
   "source": []
  },
  {
   "cell_type": "markdown",
   "metadata": {},
   "source": [
    "---\n",
    "\n",
    "### 10. Write a function to calculate the area of a triangle from a height and width.\n",
    "\n",
    "Test it out."
   ]
  },
  {
   "cell_type": "code",
   "execution_count": 194,
   "metadata": {
    "collapsed": false
   },
   "outputs": [],
   "source": [
    "def area_tri(height,width):\n",
    "    area= (height*width) * 1./2.0\n",
    "    return area\n",
    "\n",
    "# area (7,3)"
   ]
  },
  {
   "cell_type": "code",
   "execution_count": 195,
   "metadata": {
    "collapsed": false
   },
   "outputs": [
    {
     "data": {
      "text/plain": [
       "10.5"
      ]
     },
     "execution_count": 195,
     "metadata": {},
     "output_type": "execute_result"
    }
   ],
   "source": [
    "area_tri(7,3)"
   ]
  },
  {
   "cell_type": "markdown",
   "metadata": {},
   "source": [
    "---\n",
    "\n",
    "### 11. While loops and strings.\n",
    "\n",
    "Iterate over the following sentence over and over again, counting the number of vowels in the sentence until you have counted 1 million vowels. Print out the number of iterations it took to reach one million."
   ]
  },
  {
   "cell_type": "code",
   "execution_count": null,
   "metadata": {
    "collapsed": true
   },
   "outputs": [],
   "source": [
    "sentence = 'if the zoo bans me for hollering at the animals i will face god and walk backwards into hell'"
   ]
  },
  {
   "cell_type": "code",
   "execution_count": 9,
   "metadata": {
    "collapsed": false
   },
   "outputs": [
    {
     "name": "stdout",
     "output_type": "stream",
     "text": [
      "iterations: 37038\n"
     ]
    }
   ],
   "source": [
    "sentence = 'if the zoo bans me for hollering at the animals i will face god and walk backwards into hell'\n",
    "vowels = 'aeiou'\n",
    "iterations = 0\n",
    "vo = 0\n",
    "while True:\n",
    "    iterations += 1\n",
    "    for char in sentence:\n",
    "        if char in vowels:\n",
    "            vo += 1\n",
    "    if vo >= 1000000:\n",
    "        break\n",
    "print 'iterations:', iterations\n"
   ]
  },
  {
   "cell_type": "markdown",
   "metadata": {},
   "source": [
    "---\n",
    "\n",
    "### 12. Try to convert elements in a list to floats.\n",
    "\n",
    "Create a new list with the converted numbers. If something cannot be converted, skip it and append nothing to the new list.\n",
    "\n",
    "Hint: look up python EAFP"
   ]
  },
  {
   "cell_type": "code",
   "execution_count": 139,
   "metadata": {
    "collapsed": false
   },
   "outputs": [
    {
     "name": "stdout",
     "output_type": "stream",
     "text": [
      "[12.15, 1.0, 99.99, 34.0, 46.0, 1.0]\n"
     ]
    }
   ],
   "source": [
    "lst = [\"12.15\",\"!1\",\"*99.99\",\"??34\",\"46\",\"@1\",\"AA\"]\n",
    "\n",
    "new_lst = [n.replace(\"!\",\"\").replace(\"*\",\"\").replace(\"@\",\"\").replace(\"?\",\"\") for n in lst]\n",
    "\n",
    "        \n",
    "cleaned = []\n",
    "for item in new_lst:\n",
    "    try:\n",
    "        cleaned.append(float(item))\n",
    "    except:\n",
    "        pass\n",
    "print cleaned"
   ]
  },
  {
   "cell_type": "markdown",
   "metadata": {},
   "source": [
    "---\n",
    "\n",
    "### 13. Load coffee preference data from file and print\n",
    "\n",
    "The code to load in the data is provided below. \n",
    "\n",
    "The `with open(..., 'r') as f:` opens up a file in \"read\" mode (rather than \"write\"), and assigns this opened file to `f`. \n",
    "\n",
    "We can then use the `.readlines()` built-in function to split the csv file on newlines and assign it to the variable `lines`."
   ]
  },
  {
   "cell_type": "code",
   "execution_count": null,
   "metadata": {
    "collapsed": true
   },
   "outputs": [],
   "source": []
  },
  {
   "cell_type": "code",
   "execution_count": 14,
   "metadata": {
    "collapsed": false
   },
   "outputs": [],
   "source": [
    "\n",
    "with open('/Users/Javier/Desktop/USF_ECON628/ECON628-01/datasets/coffee_preferences/coffee-preferences.csv','r') as f:\n",
    "    lines = f.readlines()"
   ]
  },
  {
   "cell_type": "code",
   "execution_count": 15,
   "metadata": {
    "collapsed": false
   },
   "outputs": [
    {
     "data": {
      "text/plain": [
       "['Timestamp,Name,Starbucks,PhilzCoffee,BlueBottleCoffee,PeetsTea,CaffeTrieste,GrandCoffee,RitualCoffee,FourBarrel,WorkshopCafe\\n',\n",
       " '3/17/2015 18:37:58,Alison,3,5,4,3,,,5,5,\\n',\n",
       " '3/17/2015 18:38:09,April,4,5,5,3,,,3,,5\\n',\n",
       " '3/17/2015 18:38:25,Vijay,3,5,5,5,3,2,1,1,1\\n',\n",
       " '3/17/2015 18:38:28,Vanessa,1,5,5,2,,,3,2,3\\n',\n",
       " '3/17/2015 18:38:46,Isabel,1,4,4,2,4,,4,4,\\n',\n",
       " '3/17/2015 18:39:01,India,5,3,3,3,3,1,,,3\\n',\n",
       " '3/17/2015 18:39:01,Dave H,4,5,,5,,,,,\\n',\n",
       " '3/17/2015 18:39:05,Deepthi,3,5,,2,,,,,2\\n',\n",
       " '3/17/2015 18:39:14,Ramesh,3,4,,3,,,,,4\\n',\n",
       " '3/17/2015 18:39:23,Hugh Jass,1,5,5,4,5,2,5,4,1\\n',\n",
       " '3/17/2015 18:39:23,Alex,4,5,,3,,,,,\\n',\n",
       " '3/17/2015 18:39:30,Ajay Anand,3,4,4,3,5,,,,\\n',\n",
       " '3/17/2015 18:39:35,David Feng,2,3,4,2,2,,5,4,3\\n',\n",
       " '3/17/2015 18:39:42,Zach,3,4,4,3,,,,,5\\n',\n",
       " '3/17/2015 18:40:44,Matt,3,5,4,3,2,2,4,3,2\\n',\n",
       " '3/17/2015 18:40:49,Markus,3,5,,3,,,4,,\\n',\n",
       " '3/17/2015 18:41:18,Otto,4,2,2,5,,,3,3,3\\n',\n",
       " '3/17/2015 18:41:23,Alessandro,1,5,3,2,,,4,3,\\n',\n",
       " '3/17/2015 18:41:35,Rocky,3,5,4,3,3,3,4,4,3\\n',\n",
       " '3/17/2015 18:42:01,cheong-tseng eng,3,1,,,,,4,,']"
      ]
     },
     "execution_count": 15,
     "metadata": {},
     "output_type": "execute_result"
    }
   ],
   "source": [
    "lines"
   ]
  },
  {
   "cell_type": "markdown",
   "metadata": {},
   "source": [
    "#### Print out just the lines object by typing `lines` in a cell and hitting enter."
   ]
  },
  {
   "cell_type": "code",
   "execution_count": 5,
   "metadata": {
    "collapsed": false
   },
   "outputs": [
    {
     "data": {
      "text/plain": [
       "u'C:\\\\Users\\\\Shiv\\\\Desktop\\\\ECON628-01-spgunjal\\\\datasets\\\\coffee_preferences'"
      ]
     },
     "execution_count": 5,
     "metadata": {},
     "output_type": "execute_result"
    }
   ],
   "source": [
    "pwd"
   ]
  },
  {
   "cell_type": "code",
   "execution_count": 97,
   "metadata": {
    "collapsed": false
   },
   "outputs": [],
   "source": [
    "with open('C:\\\\Users\\\\Shiv\\\\Desktop\\\\ECON628-01-spgunjal\\\\datasets\\\\coffee_preferences\\coffee-preferences.csv','r') as f:\n",
    "    lines = f.readlines()"
   ]
  },
  {
   "cell_type": "code",
   "execution_count": 7,
   "metadata": {
    "collapsed": false
   },
   "outputs": [
    {
     "data": {
      "text/plain": [
       "['Timestamp,Name,Starbucks,PhilzCoffee,BlueBottleCoffee,PeetsTea,CaffeTrieste,GrandCoffee,RitualCoffee,FourBarrel,WorkshopCafe\\n',\n",
       " '3/17/2015 18:37:58,Alison,3,5,4,3,,,5,5,\\n',\n",
       " '3/17/2015 18:38:09,April,4,5,5,3,,,3,,5\\n',\n",
       " '3/17/2015 18:38:25,Vijay,3,5,5,5,3,2,1,1,1\\n',\n",
       " '3/17/2015 18:38:28,Vanessa,1,5,5,2,,,3,2,3\\n',\n",
       " '3/17/2015 18:38:46,Isabel,1,4,4,2,4,,4,4,\\n',\n",
       " '3/17/2015 18:39:01,India,5,3,3,3,3,1,,,3\\n',\n",
       " '3/17/2015 18:39:01,Dave H,4,5,,5,,,,,\\n',\n",
       " '3/17/2015 18:39:05,Deepthi,3,5,,2,,,,,2\\n',\n",
       " '3/17/2015 18:39:14,Ramesh,3,4,,3,,,,,4\\n',\n",
       " '3/17/2015 18:39:23,Hugh Jass,1,5,5,4,5,2,5,4,1\\n',\n",
       " '3/17/2015 18:39:23,Alex,4,5,,3,,,,,\\n',\n",
       " '3/17/2015 18:39:30,Ajay Anand,3,4,4,3,5,,,,\\n',\n",
       " '3/17/2015 18:39:35,David Feng,2,3,4,2,2,,5,4,3\\n',\n",
       " '3/17/2015 18:39:42,Zach,3,4,4,3,,,,,5\\n',\n",
       " '3/17/2015 18:40:44,Matt,3,5,4,3,2,2,4,3,2\\n',\n",
       " '3/17/2015 18:40:49,Markus,3,5,,3,,,4,,\\n',\n",
       " '3/17/2015 18:41:18,Otto,4,2,2,5,,,3,3,3\\n',\n",
       " '3/17/2015 18:41:23,Alessandro,1,5,3,2,,,4,3,\\n',\n",
       " '3/17/2015 18:41:35,Rocky,3,5,4,3,3,3,4,4,3\\n',\n",
       " '3/17/2015 18:42:01,cheong-tseng eng,3,1,,,,,4,,']"
      ]
     },
     "execution_count": 7,
     "metadata": {},
     "output_type": "execute_result"
    }
   ],
   "source": [
    "lines"
   ]
  },
  {
   "cell_type": "markdown",
   "metadata": {},
   "source": [
    "---\n",
    "\n",
    "### 14. Remove the remaining newline `'\\n'` characters with a for-loop.\n",
    "\n",
    "Iterate through the lines of the data and remove the unwanted newline characters.\n",
    "\n",
    "**`.replace('\\n', '')`** is a built-in string function that will take as the first argument the substring you want to replace, and as its second argument the string you want to replace it with."
   ]
  },
  {
   "cell_type": "code",
   "execution_count": 98,
   "metadata": {
    "collapsed": false
   },
   "outputs": [
    {
     "name": "stdout",
     "output_type": "stream",
     "text": [
      "['Timestamp,Name,Starbucks,PhilzCoffee,BlueBottleCoffee,PeetsTea,CaffeTrieste,GrandCoffee,RitualCoffee,FourBarrel,WorkshopCafe', '3/17/2015 18:37:58,Alison,3,5,4,3,,,5,5,', '3/17/2015 18:38:09,April,4,5,5,3,,,3,,5', '3/17/2015 18:38:25,Vijay,3,5,5,5,3,2,1,1,1', '3/17/2015 18:38:28,Vanessa,1,5,5,2,,,3,2,3', '3/17/2015 18:38:46,Isabel,1,4,4,2,4,,4,4,', '3/17/2015 18:39:01,India,5,3,3,3,3,1,,,3', '3/17/2015 18:39:01,Dave H,4,5,,5,,,,,', '3/17/2015 18:39:05,Deepthi,3,5,,2,,,,,2', '3/17/2015 18:39:14,Ramesh,3,4,,3,,,,,4', '3/17/2015 18:39:23,Hugh Jass,1,5,5,4,5,2,5,4,1', '3/17/2015 18:39:23,Alex,4,5,,3,,,,,', '3/17/2015 18:39:30,Ajay Anand,3,4,4,3,5,,,,', '3/17/2015 18:39:35,David Feng,2,3,4,2,2,,5,4,3', '3/17/2015 18:39:42,Zach,3,4,4,3,,,,,5', '3/17/2015 18:40:44,Matt,3,5,4,3,2,2,4,3,2', '3/17/2015 18:40:49,Markus,3,5,,3,,,4,,', '3/17/2015 18:41:18,Otto,4,2,2,5,,,3,3,3', '3/17/2015 18:41:23,Alessandro,1,5,3,2,,,4,3,', '3/17/2015 18:41:35,Rocky,3,5,4,3,3,3,4,4,3', '3/17/2015 18:42:01,cheong-tseng eng,3,1,,,,,4,,']\n",
      "['Timestamp,Name,Starbucks,PhilzCoffee,BlueBottleCoffee,PeetsTea,CaffeTrieste,GrandCoffee,RitualCoffee,FourBarrel,WorkshopCafe', '3/17/2015 18:37:58,Alison,3,5,4,3,,,5,5,', '3/17/2015 18:38:09,April,4,5,5,3,,,3,,5', '3/17/2015 18:38:25,Vijay,3,5,5,5,3,2,1,1,1', '3/17/2015 18:38:28,Vanessa,1,5,5,2,,,3,2,3', '3/17/2015 18:38:46,Isabel,1,4,4,2,4,,4,4,', '3/17/2015 18:39:01,India,5,3,3,3,3,1,,,3', '3/17/2015 18:39:01,Dave H,4,5,,5,,,,,', '3/17/2015 18:39:05,Deepthi,3,5,,2,,,,,2', '3/17/2015 18:39:14,Ramesh,3,4,,3,,,,,4', '3/17/2015 18:39:23,Hugh Jass,1,5,5,4,5,2,5,4,1', '3/17/2015 18:39:23,Alex,4,5,,3,,,,,', '3/17/2015 18:39:30,Ajay Anand,3,4,4,3,5,,,,', '3/17/2015 18:39:35,David Feng,2,3,4,2,2,,5,4,3', '3/17/2015 18:39:42,Zach,3,4,4,3,,,,,5', '3/17/2015 18:40:44,Matt,3,5,4,3,2,2,4,3,2', '3/17/2015 18:40:49,Markus,3,5,,3,,,4,,', '3/17/2015 18:41:18,Otto,4,2,2,5,,,3,3,3', '3/17/2015 18:41:23,Alessandro,1,5,3,2,,,4,3,', '3/17/2015 18:41:35,Rocky,3,5,4,3,3,3,4,4,3', '3/17/2015 18:42:01,cheong-tseng eng,3,1,,,,,4,,']\n",
      "['Timestamp,Name,Starbucks,PhilzCoffee,BlueBottleCoffee,PeetsTea,CaffeTrieste,GrandCoffee,RitualCoffee,FourBarrel,WorkshopCafe', '3/17/2015 18:37:58,Alison,3,5,4,3,,,5,5,', '3/17/2015 18:38:09,April,4,5,5,3,,,3,,5', '3/17/2015 18:38:25,Vijay,3,5,5,5,3,2,1,1,1', '3/17/2015 18:38:28,Vanessa,1,5,5,2,,,3,2,3', '3/17/2015 18:38:46,Isabel,1,4,4,2,4,,4,4,', '3/17/2015 18:39:01,India,5,3,3,3,3,1,,,3', '3/17/2015 18:39:01,Dave H,4,5,,5,,,,,', '3/17/2015 18:39:05,Deepthi,3,5,,2,,,,,2', '3/17/2015 18:39:14,Ramesh,3,4,,3,,,,,4', '3/17/2015 18:39:23,Hugh Jass,1,5,5,4,5,2,5,4,1', '3/17/2015 18:39:23,Alex,4,5,,3,,,,,', '3/17/2015 18:39:30,Ajay Anand,3,4,4,3,5,,,,', '3/17/2015 18:39:35,David Feng,2,3,4,2,2,,5,4,3', '3/17/2015 18:39:42,Zach,3,4,4,3,,,,,5', '3/17/2015 18:40:44,Matt,3,5,4,3,2,2,4,3,2', '3/17/2015 18:40:49,Markus,3,5,,3,,,4,,', '3/17/2015 18:41:18,Otto,4,2,2,5,,,3,3,3', '3/17/2015 18:41:23,Alessandro,1,5,3,2,,,4,3,', '3/17/2015 18:41:35,Rocky,3,5,4,3,3,3,4,4,3', '3/17/2015 18:42:01,cheong-tseng eng,3,1,,,,,4,,']\n",
      "['Timestamp,Name,Starbucks,PhilzCoffee,BlueBottleCoffee,PeetsTea,CaffeTrieste,GrandCoffee,RitualCoffee,FourBarrel,WorkshopCafe', '3/17/2015 18:37:58,Alison,3,5,4,3,,,5,5,', '3/17/2015 18:38:09,April,4,5,5,3,,,3,,5', '3/17/2015 18:38:25,Vijay,3,5,5,5,3,2,1,1,1', '3/17/2015 18:38:28,Vanessa,1,5,5,2,,,3,2,3', '3/17/2015 18:38:46,Isabel,1,4,4,2,4,,4,4,', '3/17/2015 18:39:01,India,5,3,3,3,3,1,,,3', '3/17/2015 18:39:01,Dave H,4,5,,5,,,,,', '3/17/2015 18:39:05,Deepthi,3,5,,2,,,,,2', '3/17/2015 18:39:14,Ramesh,3,4,,3,,,,,4', '3/17/2015 18:39:23,Hugh Jass,1,5,5,4,5,2,5,4,1', '3/17/2015 18:39:23,Alex,4,5,,3,,,,,', '3/17/2015 18:39:30,Ajay Anand,3,4,4,3,5,,,,', '3/17/2015 18:39:35,David Feng,2,3,4,2,2,,5,4,3', '3/17/2015 18:39:42,Zach,3,4,4,3,,,,,5', '3/17/2015 18:40:44,Matt,3,5,4,3,2,2,4,3,2', '3/17/2015 18:40:49,Markus,3,5,,3,,,4,,', '3/17/2015 18:41:18,Otto,4,2,2,5,,,3,3,3', '3/17/2015 18:41:23,Alessandro,1,5,3,2,,,4,3,', '3/17/2015 18:41:35,Rocky,3,5,4,3,3,3,4,4,3', '3/17/2015 18:42:01,cheong-tseng eng,3,1,,,,,4,,']\n",
      "['Timestamp,Name,Starbucks,PhilzCoffee,BlueBottleCoffee,PeetsTea,CaffeTrieste,GrandCoffee,RitualCoffee,FourBarrel,WorkshopCafe', '3/17/2015 18:37:58,Alison,3,5,4,3,,,5,5,', '3/17/2015 18:38:09,April,4,5,5,3,,,3,,5', '3/17/2015 18:38:25,Vijay,3,5,5,5,3,2,1,1,1', '3/17/2015 18:38:28,Vanessa,1,5,5,2,,,3,2,3', '3/17/2015 18:38:46,Isabel,1,4,4,2,4,,4,4,', '3/17/2015 18:39:01,India,5,3,3,3,3,1,,,3', '3/17/2015 18:39:01,Dave H,4,5,,5,,,,,', '3/17/2015 18:39:05,Deepthi,3,5,,2,,,,,2', '3/17/2015 18:39:14,Ramesh,3,4,,3,,,,,4', '3/17/2015 18:39:23,Hugh Jass,1,5,5,4,5,2,5,4,1', '3/17/2015 18:39:23,Alex,4,5,,3,,,,,', '3/17/2015 18:39:30,Ajay Anand,3,4,4,3,5,,,,', '3/17/2015 18:39:35,David Feng,2,3,4,2,2,,5,4,3', '3/17/2015 18:39:42,Zach,3,4,4,3,,,,,5', '3/17/2015 18:40:44,Matt,3,5,4,3,2,2,4,3,2', '3/17/2015 18:40:49,Markus,3,5,,3,,,4,,', '3/17/2015 18:41:18,Otto,4,2,2,5,,,3,3,3', '3/17/2015 18:41:23,Alessandro,1,5,3,2,,,4,3,', '3/17/2015 18:41:35,Rocky,3,5,4,3,3,3,4,4,3', '3/17/2015 18:42:01,cheong-tseng eng,3,1,,,,,4,,']\n",
      "['Timestamp,Name,Starbucks,PhilzCoffee,BlueBottleCoffee,PeetsTea,CaffeTrieste,GrandCoffee,RitualCoffee,FourBarrel,WorkshopCafe', '3/17/2015 18:37:58,Alison,3,5,4,3,,,5,5,', '3/17/2015 18:38:09,April,4,5,5,3,,,3,,5', '3/17/2015 18:38:25,Vijay,3,5,5,5,3,2,1,1,1', '3/17/2015 18:38:28,Vanessa,1,5,5,2,,,3,2,3', '3/17/2015 18:38:46,Isabel,1,4,4,2,4,,4,4,', '3/17/2015 18:39:01,India,5,3,3,3,3,1,,,3', '3/17/2015 18:39:01,Dave H,4,5,,5,,,,,', '3/17/2015 18:39:05,Deepthi,3,5,,2,,,,,2', '3/17/2015 18:39:14,Ramesh,3,4,,3,,,,,4', '3/17/2015 18:39:23,Hugh Jass,1,5,5,4,5,2,5,4,1', '3/17/2015 18:39:23,Alex,4,5,,3,,,,,', '3/17/2015 18:39:30,Ajay Anand,3,4,4,3,5,,,,', '3/17/2015 18:39:35,David Feng,2,3,4,2,2,,5,4,3', '3/17/2015 18:39:42,Zach,3,4,4,3,,,,,5', '3/17/2015 18:40:44,Matt,3,5,4,3,2,2,4,3,2', '3/17/2015 18:40:49,Markus,3,5,,3,,,4,,', '3/17/2015 18:41:18,Otto,4,2,2,5,,,3,3,3', '3/17/2015 18:41:23,Alessandro,1,5,3,2,,,4,3,', '3/17/2015 18:41:35,Rocky,3,5,4,3,3,3,4,4,3', '3/17/2015 18:42:01,cheong-tseng eng,3,1,,,,,4,,']\n",
      "['Timestamp,Name,Starbucks,PhilzCoffee,BlueBottleCoffee,PeetsTea,CaffeTrieste,GrandCoffee,RitualCoffee,FourBarrel,WorkshopCafe', '3/17/2015 18:37:58,Alison,3,5,4,3,,,5,5,', '3/17/2015 18:38:09,April,4,5,5,3,,,3,,5', '3/17/2015 18:38:25,Vijay,3,5,5,5,3,2,1,1,1', '3/17/2015 18:38:28,Vanessa,1,5,5,2,,,3,2,3', '3/17/2015 18:38:46,Isabel,1,4,4,2,4,,4,4,', '3/17/2015 18:39:01,India,5,3,3,3,3,1,,,3', '3/17/2015 18:39:01,Dave H,4,5,,5,,,,,', '3/17/2015 18:39:05,Deepthi,3,5,,2,,,,,2', '3/17/2015 18:39:14,Ramesh,3,4,,3,,,,,4', '3/17/2015 18:39:23,Hugh Jass,1,5,5,4,5,2,5,4,1', '3/17/2015 18:39:23,Alex,4,5,,3,,,,,', '3/17/2015 18:39:30,Ajay Anand,3,4,4,3,5,,,,', '3/17/2015 18:39:35,David Feng,2,3,4,2,2,,5,4,3', '3/17/2015 18:39:42,Zach,3,4,4,3,,,,,5', '3/17/2015 18:40:44,Matt,3,5,4,3,2,2,4,3,2', '3/17/2015 18:40:49,Markus,3,5,,3,,,4,,', '3/17/2015 18:41:18,Otto,4,2,2,5,,,3,3,3', '3/17/2015 18:41:23,Alessandro,1,5,3,2,,,4,3,', '3/17/2015 18:41:35,Rocky,3,5,4,3,3,3,4,4,3', '3/17/2015 18:42:01,cheong-tseng eng,3,1,,,,,4,,']\n",
      "['Timestamp,Name,Starbucks,PhilzCoffee,BlueBottleCoffee,PeetsTea,CaffeTrieste,GrandCoffee,RitualCoffee,FourBarrel,WorkshopCafe', '3/17/2015 18:37:58,Alison,3,5,4,3,,,5,5,', '3/17/2015 18:38:09,April,4,5,5,3,,,3,,5', '3/17/2015 18:38:25,Vijay,3,5,5,5,3,2,1,1,1', '3/17/2015 18:38:28,Vanessa,1,5,5,2,,,3,2,3', '3/17/2015 18:38:46,Isabel,1,4,4,2,4,,4,4,', '3/17/2015 18:39:01,India,5,3,3,3,3,1,,,3', '3/17/2015 18:39:01,Dave H,4,5,,5,,,,,', '3/17/2015 18:39:05,Deepthi,3,5,,2,,,,,2', '3/17/2015 18:39:14,Ramesh,3,4,,3,,,,,4', '3/17/2015 18:39:23,Hugh Jass,1,5,5,4,5,2,5,4,1', '3/17/2015 18:39:23,Alex,4,5,,3,,,,,', '3/17/2015 18:39:30,Ajay Anand,3,4,4,3,5,,,,', '3/17/2015 18:39:35,David Feng,2,3,4,2,2,,5,4,3', '3/17/2015 18:39:42,Zach,3,4,4,3,,,,,5', '3/17/2015 18:40:44,Matt,3,5,4,3,2,2,4,3,2', '3/17/2015 18:40:49,Markus,3,5,,3,,,4,,', '3/17/2015 18:41:18,Otto,4,2,2,5,,,3,3,3', '3/17/2015 18:41:23,Alessandro,1,5,3,2,,,4,3,', '3/17/2015 18:41:35,Rocky,3,5,4,3,3,3,4,4,3', '3/17/2015 18:42:01,cheong-tseng eng,3,1,,,,,4,,']\n",
      "['Timestamp,Name,Starbucks,PhilzCoffee,BlueBottleCoffee,PeetsTea,CaffeTrieste,GrandCoffee,RitualCoffee,FourBarrel,WorkshopCafe', '3/17/2015 18:37:58,Alison,3,5,4,3,,,5,5,', '3/17/2015 18:38:09,April,4,5,5,3,,,3,,5', '3/17/2015 18:38:25,Vijay,3,5,5,5,3,2,1,1,1', '3/17/2015 18:38:28,Vanessa,1,5,5,2,,,3,2,3', '3/17/2015 18:38:46,Isabel,1,4,4,2,4,,4,4,', '3/17/2015 18:39:01,India,5,3,3,3,3,1,,,3', '3/17/2015 18:39:01,Dave H,4,5,,5,,,,,', '3/17/2015 18:39:05,Deepthi,3,5,,2,,,,,2', '3/17/2015 18:39:14,Ramesh,3,4,,3,,,,,4', '3/17/2015 18:39:23,Hugh Jass,1,5,5,4,5,2,5,4,1', '3/17/2015 18:39:23,Alex,4,5,,3,,,,,', '3/17/2015 18:39:30,Ajay Anand,3,4,4,3,5,,,,', '3/17/2015 18:39:35,David Feng,2,3,4,2,2,,5,4,3', '3/17/2015 18:39:42,Zach,3,4,4,3,,,,,5', '3/17/2015 18:40:44,Matt,3,5,4,3,2,2,4,3,2', '3/17/2015 18:40:49,Markus,3,5,,3,,,4,,', '3/17/2015 18:41:18,Otto,4,2,2,5,,,3,3,3', '3/17/2015 18:41:23,Alessandro,1,5,3,2,,,4,3,', '3/17/2015 18:41:35,Rocky,3,5,4,3,3,3,4,4,3', '3/17/2015 18:42:01,cheong-tseng eng,3,1,,,,,4,,']\n",
      "['Timestamp,Name,Starbucks,PhilzCoffee,BlueBottleCoffee,PeetsTea,CaffeTrieste,GrandCoffee,RitualCoffee,FourBarrel,WorkshopCafe', '3/17/2015 18:37:58,Alison,3,5,4,3,,,5,5,', '3/17/2015 18:38:09,April,4,5,5,3,,,3,,5', '3/17/2015 18:38:25,Vijay,3,5,5,5,3,2,1,1,1', '3/17/2015 18:38:28,Vanessa,1,5,5,2,,,3,2,3', '3/17/2015 18:38:46,Isabel,1,4,4,2,4,,4,4,', '3/17/2015 18:39:01,India,5,3,3,3,3,1,,,3', '3/17/2015 18:39:01,Dave H,4,5,,5,,,,,', '3/17/2015 18:39:05,Deepthi,3,5,,2,,,,,2', '3/17/2015 18:39:14,Ramesh,3,4,,3,,,,,4', '3/17/2015 18:39:23,Hugh Jass,1,5,5,4,5,2,5,4,1', '3/17/2015 18:39:23,Alex,4,5,,3,,,,,', '3/17/2015 18:39:30,Ajay Anand,3,4,4,3,5,,,,', '3/17/2015 18:39:35,David Feng,2,3,4,2,2,,5,4,3', '3/17/2015 18:39:42,Zach,3,4,4,3,,,,,5', '3/17/2015 18:40:44,Matt,3,5,4,3,2,2,4,3,2', '3/17/2015 18:40:49,Markus,3,5,,3,,,4,,', '3/17/2015 18:41:18,Otto,4,2,2,5,,,3,3,3', '3/17/2015 18:41:23,Alessandro,1,5,3,2,,,4,3,', '3/17/2015 18:41:35,Rocky,3,5,4,3,3,3,4,4,3', '3/17/2015 18:42:01,cheong-tseng eng,3,1,,,,,4,,']\n",
      "['Timestamp,Name,Starbucks,PhilzCoffee,BlueBottleCoffee,PeetsTea,CaffeTrieste,GrandCoffee,RitualCoffee,FourBarrel,WorkshopCafe', '3/17/2015 18:37:58,Alison,3,5,4,3,,,5,5,', '3/17/2015 18:38:09,April,4,5,5,3,,,3,,5', '3/17/2015 18:38:25,Vijay,3,5,5,5,3,2,1,1,1', '3/17/2015 18:38:28,Vanessa,1,5,5,2,,,3,2,3', '3/17/2015 18:38:46,Isabel,1,4,4,2,4,,4,4,', '3/17/2015 18:39:01,India,5,3,3,3,3,1,,,3', '3/17/2015 18:39:01,Dave H,4,5,,5,,,,,', '3/17/2015 18:39:05,Deepthi,3,5,,2,,,,,2', '3/17/2015 18:39:14,Ramesh,3,4,,3,,,,,4', '3/17/2015 18:39:23,Hugh Jass,1,5,5,4,5,2,5,4,1', '3/17/2015 18:39:23,Alex,4,5,,3,,,,,', '3/17/2015 18:39:30,Ajay Anand,3,4,4,3,5,,,,', '3/17/2015 18:39:35,David Feng,2,3,4,2,2,,5,4,3', '3/17/2015 18:39:42,Zach,3,4,4,3,,,,,5', '3/17/2015 18:40:44,Matt,3,5,4,3,2,2,4,3,2', '3/17/2015 18:40:49,Markus,3,5,,3,,,4,,', '3/17/2015 18:41:18,Otto,4,2,2,5,,,3,3,3', '3/17/2015 18:41:23,Alessandro,1,5,3,2,,,4,3,', '3/17/2015 18:41:35,Rocky,3,5,4,3,3,3,4,4,3', '3/17/2015 18:42:01,cheong-tseng eng,3,1,,,,,4,,']\n",
      "['Timestamp,Name,Starbucks,PhilzCoffee,BlueBottleCoffee,PeetsTea,CaffeTrieste,GrandCoffee,RitualCoffee,FourBarrel,WorkshopCafe', '3/17/2015 18:37:58,Alison,3,5,4,3,,,5,5,', '3/17/2015 18:38:09,April,4,5,5,3,,,3,,5', '3/17/2015 18:38:25,Vijay,3,5,5,5,3,2,1,1,1', '3/17/2015 18:38:28,Vanessa,1,5,5,2,,,3,2,3', '3/17/2015 18:38:46,Isabel,1,4,4,2,4,,4,4,', '3/17/2015 18:39:01,India,5,3,3,3,3,1,,,3', '3/17/2015 18:39:01,Dave H,4,5,,5,,,,,', '3/17/2015 18:39:05,Deepthi,3,5,,2,,,,,2', '3/17/2015 18:39:14,Ramesh,3,4,,3,,,,,4', '3/17/2015 18:39:23,Hugh Jass,1,5,5,4,5,2,5,4,1', '3/17/2015 18:39:23,Alex,4,5,,3,,,,,', '3/17/2015 18:39:30,Ajay Anand,3,4,4,3,5,,,,', '3/17/2015 18:39:35,David Feng,2,3,4,2,2,,5,4,3', '3/17/2015 18:39:42,Zach,3,4,4,3,,,,,5', '3/17/2015 18:40:44,Matt,3,5,4,3,2,2,4,3,2', '3/17/2015 18:40:49,Markus,3,5,,3,,,4,,', '3/17/2015 18:41:18,Otto,4,2,2,5,,,3,3,3', '3/17/2015 18:41:23,Alessandro,1,5,3,2,,,4,3,', '3/17/2015 18:41:35,Rocky,3,5,4,3,3,3,4,4,3', '3/17/2015 18:42:01,cheong-tseng eng,3,1,,,,,4,,']\n",
      "['Timestamp,Name,Starbucks,PhilzCoffee,BlueBottleCoffee,PeetsTea,CaffeTrieste,GrandCoffee,RitualCoffee,FourBarrel,WorkshopCafe', '3/17/2015 18:37:58,Alison,3,5,4,3,,,5,5,', '3/17/2015 18:38:09,April,4,5,5,3,,,3,,5', '3/17/2015 18:38:25,Vijay,3,5,5,5,3,2,1,1,1', '3/17/2015 18:38:28,Vanessa,1,5,5,2,,,3,2,3', '3/17/2015 18:38:46,Isabel,1,4,4,2,4,,4,4,', '3/17/2015 18:39:01,India,5,3,3,3,3,1,,,3', '3/17/2015 18:39:01,Dave H,4,5,,5,,,,,', '3/17/2015 18:39:05,Deepthi,3,5,,2,,,,,2', '3/17/2015 18:39:14,Ramesh,3,4,,3,,,,,4', '3/17/2015 18:39:23,Hugh Jass,1,5,5,4,5,2,5,4,1', '3/17/2015 18:39:23,Alex,4,5,,3,,,,,', '3/17/2015 18:39:30,Ajay Anand,3,4,4,3,5,,,,', '3/17/2015 18:39:35,David Feng,2,3,4,2,2,,5,4,3', '3/17/2015 18:39:42,Zach,3,4,4,3,,,,,5', '3/17/2015 18:40:44,Matt,3,5,4,3,2,2,4,3,2', '3/17/2015 18:40:49,Markus,3,5,,3,,,4,,', '3/17/2015 18:41:18,Otto,4,2,2,5,,,3,3,3', '3/17/2015 18:41:23,Alessandro,1,5,3,2,,,4,3,', '3/17/2015 18:41:35,Rocky,3,5,4,3,3,3,4,4,3', '3/17/2015 18:42:01,cheong-tseng eng,3,1,,,,,4,,']\n",
      "['Timestamp,Name,Starbucks,PhilzCoffee,BlueBottleCoffee,PeetsTea,CaffeTrieste,GrandCoffee,RitualCoffee,FourBarrel,WorkshopCafe', '3/17/2015 18:37:58,Alison,3,5,4,3,,,5,5,', '3/17/2015 18:38:09,April,4,5,5,3,,,3,,5', '3/17/2015 18:38:25,Vijay,3,5,5,5,3,2,1,1,1', '3/17/2015 18:38:28,Vanessa,1,5,5,2,,,3,2,3', '3/17/2015 18:38:46,Isabel,1,4,4,2,4,,4,4,', '3/17/2015 18:39:01,India,5,3,3,3,3,1,,,3', '3/17/2015 18:39:01,Dave H,4,5,,5,,,,,', '3/17/2015 18:39:05,Deepthi,3,5,,2,,,,,2', '3/17/2015 18:39:14,Ramesh,3,4,,3,,,,,4', '3/17/2015 18:39:23,Hugh Jass,1,5,5,4,5,2,5,4,1', '3/17/2015 18:39:23,Alex,4,5,,3,,,,,', '3/17/2015 18:39:30,Ajay Anand,3,4,4,3,5,,,,', '3/17/2015 18:39:35,David Feng,2,3,4,2,2,,5,4,3', '3/17/2015 18:39:42,Zach,3,4,4,3,,,,,5', '3/17/2015 18:40:44,Matt,3,5,4,3,2,2,4,3,2', '3/17/2015 18:40:49,Markus,3,5,,3,,,4,,', '3/17/2015 18:41:18,Otto,4,2,2,5,,,3,3,3', '3/17/2015 18:41:23,Alessandro,1,5,3,2,,,4,3,', '3/17/2015 18:41:35,Rocky,3,5,4,3,3,3,4,4,3', '3/17/2015 18:42:01,cheong-tseng eng,3,1,,,,,4,,']\n",
      "['Timestamp,Name,Starbucks,PhilzCoffee,BlueBottleCoffee,PeetsTea,CaffeTrieste,GrandCoffee,RitualCoffee,FourBarrel,WorkshopCafe', '3/17/2015 18:37:58,Alison,3,5,4,3,,,5,5,', '3/17/2015 18:38:09,April,4,5,5,3,,,3,,5', '3/17/2015 18:38:25,Vijay,3,5,5,5,3,2,1,1,1', '3/17/2015 18:38:28,Vanessa,1,5,5,2,,,3,2,3', '3/17/2015 18:38:46,Isabel,1,4,4,2,4,,4,4,', '3/17/2015 18:39:01,India,5,3,3,3,3,1,,,3', '3/17/2015 18:39:01,Dave H,4,5,,5,,,,,', '3/17/2015 18:39:05,Deepthi,3,5,,2,,,,,2', '3/17/2015 18:39:14,Ramesh,3,4,,3,,,,,4', '3/17/2015 18:39:23,Hugh Jass,1,5,5,4,5,2,5,4,1', '3/17/2015 18:39:23,Alex,4,5,,3,,,,,', '3/17/2015 18:39:30,Ajay Anand,3,4,4,3,5,,,,', '3/17/2015 18:39:35,David Feng,2,3,4,2,2,,5,4,3', '3/17/2015 18:39:42,Zach,3,4,4,3,,,,,5', '3/17/2015 18:40:44,Matt,3,5,4,3,2,2,4,3,2', '3/17/2015 18:40:49,Markus,3,5,,3,,,4,,', '3/17/2015 18:41:18,Otto,4,2,2,5,,,3,3,3', '3/17/2015 18:41:23,Alessandro,1,5,3,2,,,4,3,', '3/17/2015 18:41:35,Rocky,3,5,4,3,3,3,4,4,3', '3/17/2015 18:42:01,cheong-tseng eng,3,1,,,,,4,,']\n",
      "['Timestamp,Name,Starbucks,PhilzCoffee,BlueBottleCoffee,PeetsTea,CaffeTrieste,GrandCoffee,RitualCoffee,FourBarrel,WorkshopCafe', '3/17/2015 18:37:58,Alison,3,5,4,3,,,5,5,', '3/17/2015 18:38:09,April,4,5,5,3,,,3,,5', '3/17/2015 18:38:25,Vijay,3,5,5,5,3,2,1,1,1', '3/17/2015 18:38:28,Vanessa,1,5,5,2,,,3,2,3', '3/17/2015 18:38:46,Isabel,1,4,4,2,4,,4,4,', '3/17/2015 18:39:01,India,5,3,3,3,3,1,,,3', '3/17/2015 18:39:01,Dave H,4,5,,5,,,,,', '3/17/2015 18:39:05,Deepthi,3,5,,2,,,,,2', '3/17/2015 18:39:14,Ramesh,3,4,,3,,,,,4', '3/17/2015 18:39:23,Hugh Jass,1,5,5,4,5,2,5,4,1', '3/17/2015 18:39:23,Alex,4,5,,3,,,,,', '3/17/2015 18:39:30,Ajay Anand,3,4,4,3,5,,,,', '3/17/2015 18:39:35,David Feng,2,3,4,2,2,,5,4,3', '3/17/2015 18:39:42,Zach,3,4,4,3,,,,,5', '3/17/2015 18:40:44,Matt,3,5,4,3,2,2,4,3,2', '3/17/2015 18:40:49,Markus,3,5,,3,,,4,,', '3/17/2015 18:41:18,Otto,4,2,2,5,,,3,3,3', '3/17/2015 18:41:23,Alessandro,1,5,3,2,,,4,3,', '3/17/2015 18:41:35,Rocky,3,5,4,3,3,3,4,4,3', '3/17/2015 18:42:01,cheong-tseng eng,3,1,,,,,4,,']\n",
      "['Timestamp,Name,Starbucks,PhilzCoffee,BlueBottleCoffee,PeetsTea,CaffeTrieste,GrandCoffee,RitualCoffee,FourBarrel,WorkshopCafe', '3/17/2015 18:37:58,Alison,3,5,4,3,,,5,5,', '3/17/2015 18:38:09,April,4,5,5,3,,,3,,5', '3/17/2015 18:38:25,Vijay,3,5,5,5,3,2,1,1,1', '3/17/2015 18:38:28,Vanessa,1,5,5,2,,,3,2,3', '3/17/2015 18:38:46,Isabel,1,4,4,2,4,,4,4,', '3/17/2015 18:39:01,India,5,3,3,3,3,1,,,3', '3/17/2015 18:39:01,Dave H,4,5,,5,,,,,', '3/17/2015 18:39:05,Deepthi,3,5,,2,,,,,2', '3/17/2015 18:39:14,Ramesh,3,4,,3,,,,,4', '3/17/2015 18:39:23,Hugh Jass,1,5,5,4,5,2,5,4,1', '3/17/2015 18:39:23,Alex,4,5,,3,,,,,', '3/17/2015 18:39:30,Ajay Anand,3,4,4,3,5,,,,', '3/17/2015 18:39:35,David Feng,2,3,4,2,2,,5,4,3', '3/17/2015 18:39:42,Zach,3,4,4,3,,,,,5', '3/17/2015 18:40:44,Matt,3,5,4,3,2,2,4,3,2', '3/17/2015 18:40:49,Markus,3,5,,3,,,4,,', '3/17/2015 18:41:18,Otto,4,2,2,5,,,3,3,3', '3/17/2015 18:41:23,Alessandro,1,5,3,2,,,4,3,', '3/17/2015 18:41:35,Rocky,3,5,4,3,3,3,4,4,3', '3/17/2015 18:42:01,cheong-tseng eng,3,1,,,,,4,,']\n",
      "['Timestamp,Name,Starbucks,PhilzCoffee,BlueBottleCoffee,PeetsTea,CaffeTrieste,GrandCoffee,RitualCoffee,FourBarrel,WorkshopCafe', '3/17/2015 18:37:58,Alison,3,5,4,3,,,5,5,', '3/17/2015 18:38:09,April,4,5,5,3,,,3,,5', '3/17/2015 18:38:25,Vijay,3,5,5,5,3,2,1,1,1', '3/17/2015 18:38:28,Vanessa,1,5,5,2,,,3,2,3', '3/17/2015 18:38:46,Isabel,1,4,4,2,4,,4,4,', '3/17/2015 18:39:01,India,5,3,3,3,3,1,,,3', '3/17/2015 18:39:01,Dave H,4,5,,5,,,,,', '3/17/2015 18:39:05,Deepthi,3,5,,2,,,,,2', '3/17/2015 18:39:14,Ramesh,3,4,,3,,,,,4', '3/17/2015 18:39:23,Hugh Jass,1,5,5,4,5,2,5,4,1', '3/17/2015 18:39:23,Alex,4,5,,3,,,,,', '3/17/2015 18:39:30,Ajay Anand,3,4,4,3,5,,,,', '3/17/2015 18:39:35,David Feng,2,3,4,2,2,,5,4,3', '3/17/2015 18:39:42,Zach,3,4,4,3,,,,,5', '3/17/2015 18:40:44,Matt,3,5,4,3,2,2,4,3,2', '3/17/2015 18:40:49,Markus,3,5,,3,,,4,,', '3/17/2015 18:41:18,Otto,4,2,2,5,,,3,3,3', '3/17/2015 18:41:23,Alessandro,1,5,3,2,,,4,3,', '3/17/2015 18:41:35,Rocky,3,5,4,3,3,3,4,4,3', '3/17/2015 18:42:01,cheong-tseng eng,3,1,,,,,4,,']\n",
      "['Timestamp,Name,Starbucks,PhilzCoffee,BlueBottleCoffee,PeetsTea,CaffeTrieste,GrandCoffee,RitualCoffee,FourBarrel,WorkshopCafe', '3/17/2015 18:37:58,Alison,3,5,4,3,,,5,5,', '3/17/2015 18:38:09,April,4,5,5,3,,,3,,5', '3/17/2015 18:38:25,Vijay,3,5,5,5,3,2,1,1,1', '3/17/2015 18:38:28,Vanessa,1,5,5,2,,,3,2,3', '3/17/2015 18:38:46,Isabel,1,4,4,2,4,,4,4,', '3/17/2015 18:39:01,India,5,3,3,3,3,1,,,3', '3/17/2015 18:39:01,Dave H,4,5,,5,,,,,', '3/17/2015 18:39:05,Deepthi,3,5,,2,,,,,2', '3/17/2015 18:39:14,Ramesh,3,4,,3,,,,,4', '3/17/2015 18:39:23,Hugh Jass,1,5,5,4,5,2,5,4,1', '3/17/2015 18:39:23,Alex,4,5,,3,,,,,', '3/17/2015 18:39:30,Ajay Anand,3,4,4,3,5,,,,', '3/17/2015 18:39:35,David Feng,2,3,4,2,2,,5,4,3', '3/17/2015 18:39:42,Zach,3,4,4,3,,,,,5', '3/17/2015 18:40:44,Matt,3,5,4,3,2,2,4,3,2', '3/17/2015 18:40:49,Markus,3,5,,3,,,4,,', '3/17/2015 18:41:18,Otto,4,2,2,5,,,3,3,3', '3/17/2015 18:41:23,Alessandro,1,5,3,2,,,4,3,', '3/17/2015 18:41:35,Rocky,3,5,4,3,3,3,4,4,3', '3/17/2015 18:42:01,cheong-tseng eng,3,1,,,,,4,,']\n",
      "['Timestamp,Name,Starbucks,PhilzCoffee,BlueBottleCoffee,PeetsTea,CaffeTrieste,GrandCoffee,RitualCoffee,FourBarrel,WorkshopCafe', '3/17/2015 18:37:58,Alison,3,5,4,3,,,5,5,', '3/17/2015 18:38:09,April,4,5,5,3,,,3,,5', '3/17/2015 18:38:25,Vijay,3,5,5,5,3,2,1,1,1', '3/17/2015 18:38:28,Vanessa,1,5,5,2,,,3,2,3', '3/17/2015 18:38:46,Isabel,1,4,4,2,4,,4,4,', '3/17/2015 18:39:01,India,5,3,3,3,3,1,,,3', '3/17/2015 18:39:01,Dave H,4,5,,5,,,,,', '3/17/2015 18:39:05,Deepthi,3,5,,2,,,,,2', '3/17/2015 18:39:14,Ramesh,3,4,,3,,,,,4', '3/17/2015 18:39:23,Hugh Jass,1,5,5,4,5,2,5,4,1', '3/17/2015 18:39:23,Alex,4,5,,3,,,,,', '3/17/2015 18:39:30,Ajay Anand,3,4,4,3,5,,,,', '3/17/2015 18:39:35,David Feng,2,3,4,2,2,,5,4,3', '3/17/2015 18:39:42,Zach,3,4,4,3,,,,,5', '3/17/2015 18:40:44,Matt,3,5,4,3,2,2,4,3,2', '3/17/2015 18:40:49,Markus,3,5,,3,,,4,,', '3/17/2015 18:41:18,Otto,4,2,2,5,,,3,3,3', '3/17/2015 18:41:23,Alessandro,1,5,3,2,,,4,3,', '3/17/2015 18:41:35,Rocky,3,5,4,3,3,3,4,4,3', '3/17/2015 18:42:01,cheong-tseng eng,3,1,,,,,4,,']\n",
      "['Timestamp,Name,Starbucks,PhilzCoffee,BlueBottleCoffee,PeetsTea,CaffeTrieste,GrandCoffee,RitualCoffee,FourBarrel,WorkshopCafe', '3/17/2015 18:37:58,Alison,3,5,4,3,,,5,5,', '3/17/2015 18:38:09,April,4,5,5,3,,,3,,5', '3/17/2015 18:38:25,Vijay,3,5,5,5,3,2,1,1,1', '3/17/2015 18:38:28,Vanessa,1,5,5,2,,,3,2,3', '3/17/2015 18:38:46,Isabel,1,4,4,2,4,,4,4,', '3/17/2015 18:39:01,India,5,3,3,3,3,1,,,3', '3/17/2015 18:39:01,Dave H,4,5,,5,,,,,', '3/17/2015 18:39:05,Deepthi,3,5,,2,,,,,2', '3/17/2015 18:39:14,Ramesh,3,4,,3,,,,,4', '3/17/2015 18:39:23,Hugh Jass,1,5,5,4,5,2,5,4,1', '3/17/2015 18:39:23,Alex,4,5,,3,,,,,', '3/17/2015 18:39:30,Ajay Anand,3,4,4,3,5,,,,', '3/17/2015 18:39:35,David Feng,2,3,4,2,2,,5,4,3', '3/17/2015 18:39:42,Zach,3,4,4,3,,,,,5', '3/17/2015 18:40:44,Matt,3,5,4,3,2,2,4,3,2', '3/17/2015 18:40:49,Markus,3,5,,3,,,4,,', '3/17/2015 18:41:18,Otto,4,2,2,5,,,3,3,3', '3/17/2015 18:41:23,Alessandro,1,5,3,2,,,4,3,', '3/17/2015 18:41:35,Rocky,3,5,4,3,3,3,4,4,3', '3/17/2015 18:42:01,cheong-tseng eng,3,1,,,,,4,,']\n"
     ]
    }
   ],
   "source": [
    "lines = [word.replace('\\n','') for word in lines]\n",
    "for word in new_lines:\n",
    "    print lines"
   ]
  },
  {
   "cell_type": "markdown",
   "metadata": {},
   "source": [
    "---\n",
    "\n",
    "### 15. Split the lines into \"header\" and \"data\" variables.\n",
    "\n",
    "The header is the first string in the list of strings. It contains the column names of our data."
   ]
  },
  {
   "cell_type": "code",
   "execution_count": 123,
   "metadata": {
    "collapsed": false
   },
   "outputs": [],
   "source": [
    "header = lines[0]\n",
    "data = lines[1:]"
   ]
  },
  {
   "cell_type": "code",
   "execution_count": 100,
   "metadata": {
    "collapsed": false
   },
   "outputs": [
    {
     "name": "stdout",
     "output_type": "stream",
     "text": [
      "Timestamp,Name,Starbucks,PhilzCoffee,BlueBottleCoffee,PeetsTea,CaffeTrieste,GrandCoffee,RitualCoffee,FourBarrel,WorkshopCafe\n"
     ]
    }
   ],
   "source": [
    "print header"
   ]
  },
  {
   "cell_type": "code",
   "execution_count": 115,
   "metadata": {
    "collapsed": false
   },
   "outputs": [
    {
     "name": "stdout",
     "output_type": "stream",
     "text": [
      "['3/17/2015 18:37:58,Alison,3,5,4,3,,,5,5,', '3/17/2015 18:38:09,April,4,5,5,3,,,3,,5', '3/17/2015 18:38:25,Vijay,3,5,5,5,3,2,1,1,1', '3/17/2015 18:38:28,Vanessa,1,5,5,2,,,3,2,3', '3/17/2015 18:38:46,Isabel,1,4,4,2,4,,4,4,', '3/17/2015 18:39:01,India,5,3,3,3,3,1,,,3', '3/17/2015 18:39:01,Dave H,4,5,,5,,,,,', '3/17/2015 18:39:05,Deepthi,3,5,,2,,,,,2', '3/17/2015 18:39:14,Ramesh,3,4,,3,,,,,4', '3/17/2015 18:39:23,Hugh Jass,1,5,5,4,5,2,5,4,1', '3/17/2015 18:39:23,Alex,4,5,,3,,,,,', '3/17/2015 18:39:30,Ajay Anand,3,4,4,3,5,,,,', '3/17/2015 18:39:35,David Feng,2,3,4,2,2,,5,4,3', '3/17/2015 18:39:42,Zach,3,4,4,3,,,,,5', '3/17/2015 18:40:44,Matt,3,5,4,3,2,2,4,3,2', '3/17/2015 18:40:49,Markus,3,5,,3,,,4,,', '3/17/2015 18:41:18,Otto,4,2,2,5,,,3,3,3', '3/17/2015 18:41:23,Alessandro,1,5,3,2,,,4,3,', '3/17/2015 18:41:35,Rocky,3,5,4,3,3,3,4,4,3', '3/17/2015 18:42:01,cheong-tseng eng,3,1,,,,,4,,']\n"
     ]
    }
   ],
   "source": [
    "print data"
   ]
  },
  {
   "cell_type": "markdown",
   "metadata": {},
   "source": [
    "---\n",
    "\n",
    "### 16. Split the header and the data strings on commas.\n",
    "\n",
    "To split a string on the comma character, use the **`.split(',')`** built-in function. \n",
    "\n",
    "Split the header on commas first and print it. You can see that the original string is now a list, with items that were originally separated by commas."
   ]
  },
  {
   "cell_type": "code",
   "execution_count": 73,
   "metadata": {
    "collapsed": false
   },
   "outputs": [],
   "source": [
    "header = header.split(',')"
   ]
  },
  {
   "cell_type": "code",
   "execution_count": 144,
   "metadata": {
    "collapsed": false
   },
   "outputs": [
    {
     "name": "stdout",
     "output_type": "stream",
     "text": [
      "Timestamp,Name,Starbucks,PhilzCoffee,BlueBottleCoffee,PeetsTea,CaffeTrieste,GrandCoffee,RitualCoffee,FourBarrel,WorkshopCafe <type 'str'>\n"
     ]
    }
   ],
   "source": [
    "print header, type(header)"
   ]
  },
  {
   "cell_type": "code",
   "execution_count": 132,
   "metadata": {
    "collapsed": false
   },
   "outputs": [],
   "source": [
    "\n",
    "split_data = []\n",
    "for d in data:\n",
    "    split_data.append(d.split(','))"
   ]
  },
  {
   "cell_type": "code",
   "execution_count": 133,
   "metadata": {
    "collapsed": false
   },
   "outputs": [
    {
     "name": "stdout",
     "output_type": "stream",
     "text": [
      "[['3/17/2015 18:37:58', 'Alison', '3', '5', '4', '3', '', '', '5', '5', ''], ['3/17/2015 18:38:09', 'April', '4', '5', '5', '3', '', '', '3', '', '5'], ['3/17/2015 18:38:25', 'Vijay', '3', '5', '5', '5', '3', '2', '1', '1', '1'], ['3/17/2015 18:38:28', 'Vanessa', '1', '5', '5', '2', '', '', '3', '2', '3'], ['3/17/2015 18:38:46', 'Isabel', '1', '4', '4', '2', '4', '', '4', '4', ''], ['3/17/2015 18:39:01', 'India', '5', '3', '3', '3', '3', '1', '', '', '3'], ['3/17/2015 18:39:01', 'Dave H', '4', '5', '', '5', '', '', '', '', ''], ['3/17/2015 18:39:05', 'Deepthi', '3', '5', '', '2', '', '', '', '', '2'], ['3/17/2015 18:39:14', 'Ramesh', '3', '4', '', '3', '', '', '', '', '4'], ['3/17/2015 18:39:23', 'Hugh Jass', '1', '5', '5', '4', '5', '2', '5', '4', '1'], ['3/17/2015 18:39:23', 'Alex', '4', '5', '', '3', '', '', '', '', ''], ['3/17/2015 18:39:30', 'Ajay Anand', '3', '4', '4', '3', '5', '', '', '', ''], ['3/17/2015 18:39:35', 'David Feng', '2', '3', '4', '2', '2', '', '5', '4', '3'], ['3/17/2015 18:39:42', 'Zach', '3', '4', '4', '3', '', '', '', '', '5'], ['3/17/2015 18:40:44', 'Matt', '3', '5', '4', '3', '2', '2', '4', '3', '2'], ['3/17/2015 18:40:49', 'Markus', '3', '5', '', '3', '', '', '4', '', ''], ['3/17/2015 18:41:18', 'Otto', '4', '2', '2', '5', '', '', '3', '3', '3'], ['3/17/2015 18:41:23', 'Alessandro', '1', '5', '3', '2', '', '', '4', '3', ''], ['3/17/2015 18:41:35', 'Rocky', '3', '5', '4', '3', '3', '3', '4', '4', '3'], ['3/17/2015 18:42:01', 'cheong-tseng eng', '3', '1', '', '', '', '', '4', '', '']]\n"
     ]
    }
   ],
   "source": [
    "print split_data"
   ]
  },
  {
   "cell_type": "markdown",
   "metadata": {},
   "source": [
    "---\n",
    "\n",
    "### 17. Remove the \"Timestamp\" column.\n",
    "\n",
    "We aren't interested in the Timestamp column in our data, so remove it from the header and the data list.\n",
    "\n",
    "Removing the Timestamp from the header can be done with list functions or slicing. To remove the header column from the data, use a for-loop.\n",
    "\n",
    "Print out the new data object with the timestamps removed."
   ]
  },
  {
   "cell_type": "code",
   "execution_count": 79,
   "metadata": {
    "collapsed": false
   },
   "outputs": [
    {
     "data": {
      "text/plain": [
       "0"
      ]
     },
     "execution_count": 79,
     "metadata": {},
     "output_type": "execute_result"
    }
   ],
   "source": [
    "header.index('Timestamp')"
   ]
  },
  {
   "cell_type": "code",
   "execution_count": 80,
   "metadata": {
    "collapsed": false
   },
   "outputs": [
    {
     "data": {
      "text/plain": [
       "'Timestamp'"
      ]
     },
     "execution_count": 80,
     "metadata": {},
     "output_type": "execute_result"
    }
   ],
   "source": [
    "header.pop(0)"
   ]
  },
  {
   "cell_type": "code",
   "execution_count": 81,
   "metadata": {
    "collapsed": false
   },
   "outputs": [
    {
     "name": "stdout",
     "output_type": "stream",
     "text": [
      "['Name', 'Starbucks', 'PhilzCoffee', 'BlueBottleCoffee', 'PeetsTea', 'CaffeTrieste', 'GrandCoffee', 'RitualCoffee', 'FourBarrel', 'WorkshopCafe']\n"
     ]
    }
   ],
   "source": [
    "print header"
   ]
  },
  {
   "cell_type": "code",
   "execution_count": 135,
   "metadata": {
    "collapsed": false
   },
   "outputs": [],
   "source": [
    "\n",
    "new_data = []\n",
    "for values in split_data:\n",
    "    new_data.append(values[1:])\n",
    " "
   ]
  },
  {
   "cell_type": "code",
   "execution_count": 136,
   "metadata": {
    "collapsed": false
   },
   "outputs": [
    {
     "data": {
      "text/plain": [
       "[['Alison', '3', '5', '4', '3', '', '', '5', '5', ''],\n",
       " ['April', '4', '5', '5', '3', '', '', '3', '', '5'],\n",
       " ['Vijay', '3', '5', '5', '5', '3', '2', '1', '1', '1'],\n",
       " ['Vanessa', '1', '5', '5', '2', '', '', '3', '2', '3'],\n",
       " ['Isabel', '1', '4', '4', '2', '4', '', '4', '4', ''],\n",
       " ['India', '5', '3', '3', '3', '3', '1', '', '', '3'],\n",
       " ['Dave H', '4', '5', '', '5', '', '', '', '', ''],\n",
       " ['Deepthi', '3', '5', '', '2', '', '', '', '', '2'],\n",
       " ['Ramesh', '3', '4', '', '3', '', '', '', '', '4'],\n",
       " ['Hugh Jass', '1', '5', '5', '4', '5', '2', '5', '4', '1'],\n",
       " ['Alex', '4', '5', '', '3', '', '', '', '', ''],\n",
       " ['Ajay Anand', '3', '4', '4', '3', '5', '', '', '', ''],\n",
       " ['David Feng', '2', '3', '4', '2', '2', '', '5', '4', '3'],\n",
       " ['Zach', '3', '4', '4', '3', '', '', '', '', '5'],\n",
       " ['Matt', '3', '5', '4', '3', '2', '2', '4', '3', '2'],\n",
       " ['Markus', '3', '5', '', '3', '', '', '4', '', ''],\n",
       " ['Otto', '4', '2', '2', '5', '', '', '3', '3', '3'],\n",
       " ['Alessandro', '1', '5', '3', '2', '', '', '4', '3', ''],\n",
       " ['Rocky', '3', '5', '4', '3', '3', '3', '4', '4', '3'],\n",
       " ['cheong-tseng eng', '3', '1', '', '', '', '', '4', '', '']]"
      ]
     },
     "execution_count": 136,
     "metadata": {},
     "output_type": "execute_result"
    }
   ],
   "source": [
    "new_data"
   ]
  },
  {
   "cell_type": "markdown",
   "metadata": {},
   "source": [
    "---\n",
    "\n",
    "### 18. Convert numeric columns to floats and empty fields to `None`.\n",
    "\n",
    "Iterate through the data and construct a new data list of lists that has the numeric ratings converted from strings to floats, and the empty fields (which are empty strings `''`) replaced with the `None` object.\n",
    "\n",
    "Use a nested for-loop (for-loop within another for-loop) to get the job done. You will likely need to use if/else conditional statements as well.\n",
    "\n",
    "Print out the new data object to make sure it worked."
   ]
  },
  {
   "cell_type": "code",
   "execution_count": null,
   "metadata": {
    "collapsed": true
   },
   "outputs": [],
   "source": [
    "cleaned = []\n",
    "for la in new_lst:\n",
    "    for rating in la:\n",
    "        if la\n",
    "    for \n",
    "    try:\n",
    "        cleaned.append(float(item))\n",
    "    except:\n",
    "        pass\n",
    "print cleaned"
   ]
  },
  {
   "cell_type": "code",
   "execution_count": 146,
   "metadata": {
    "collapsed": false
   },
   "outputs": [
    {
     "ename": "ValueError",
     "evalue": "invalid literal for int() with base 10: \"(0, ['asd', '22'])\"",
     "output_type": "error",
     "traceback": [
      "\u001b[0;31m---------------------------------------------------------------------------\u001b[0m",
      "\u001b[0;31mValueError\u001b[0m                                Traceback (most recent call last)",
      "\u001b[0;32m<ipython-input-146-8dcc6a7365a3>\u001b[0m in \u001b[0;36m<module>\u001b[0;34m()\u001b[0m\n\u001b[1;32m      2\u001b[0m \u001b[0my\u001b[0m \u001b[1;33m=\u001b[0m\u001b[1;33m[\u001b[0m\u001b[1;33m]\u001b[0m\u001b[1;33m\u001b[0m\u001b[0m\n\u001b[1;32m      3\u001b[0m \u001b[1;32mfor\u001b[0m \u001b[0mlsd\u001b[0m \u001b[1;32min\u001b[0m \u001b[0menumerate\u001b[0m\u001b[1;33m(\u001b[0m\u001b[0mx\u001b[0m\u001b[1;33m)\u001b[0m\u001b[1;33m:\u001b[0m\u001b[1;33m\u001b[0m\u001b[0m\n\u001b[0;32m----> 4\u001b[0;31m     \u001b[1;32mif\u001b[0m \u001b[0mint\u001b[0m\u001b[1;33m(\u001b[0m\u001b[0mstr\u001b[0m\u001b[1;33m(\u001b[0m\u001b[0mlsd\u001b[0m\u001b[1;33m)\u001b[0m\u001b[1;33m)\u001b[0m\u001b[1;33m==\u001b[0m \u001b[0mFalse\u001b[0m\u001b[1;33m:\u001b[0m\u001b[1;33m\u001b[0m\u001b[0m\n\u001b[0m\u001b[1;32m      5\u001b[0m         \u001b[0my\u001b[0m\u001b[1;33m.\u001b[0m\u001b[0mappend\u001b[0m\u001b[1;33m(\u001b[0m\u001b[0mlsd\u001b[0m\u001b[1;33m)\u001b[0m\u001b[1;33m\u001b[0m\u001b[0m\n\u001b[1;32m      6\u001b[0m \u001b[1;33m\u001b[0m\u001b[0m\n",
      "\u001b[0;31mValueError\u001b[0m: invalid literal for int() with base 10: \"(0, ['asd', '22'])\""
     ]
    }
   ],
   "source": [
    "x = [['asd','22'],['df','72']]\n",
    "y =[]\n",
    "for lsd in enumerate(x):\n",
    "    if int(str(lsd))== False:\n",
    "        y.append(lsd)\n",
    "        \n",
    "    elif int(str(lsd))== True:\n",
    "        y.append(float(lsd))\n",
    "        \n",
    "print y"
   ]
  },
  {
   "cell_type": "markdown",
   "metadata": {},
   "source": [
    "---\n",
    "\n",
    "### 19. Count the `None` values per person and put counts in a dictionary.\n",
    "\n",
    "Use a for loop to count the number of `None` values per person. Create a dictionary with the names of the people as keys, and the counts of `None` as values.\n",
    "\n",
    "Who rated the most coffee brands? Who rated the least?"
   ]
  },
  {
   "cell_type": "code",
   "execution_count": null,
   "metadata": {
    "collapsed": false
   },
   "outputs": [],
   "source": []
  },
  {
   "cell_type": "markdown",
   "metadata": {},
   "source": [
    "---\n",
    "\n",
    "### 20. Calculate average rating per coffee brand.\n",
    "\n",
    "**Excluding `None` values**, calculate the average rating per brand of coffee.\n",
    "\n",
    "The final output should be a dictionary with keys as the coffee brand names, and their average rating as the values.\n",
    "\n",
    "Remember that average can be calculated as the sum of the ratings over the number of ratings:\n",
    "\n",
    "```python\n",
    "average_rating = float(sum(ratings_list))/len(ratings_list)\n",
    "```\n",
    "\n",
    "Print your dictionary to see the average brand ratings."
   ]
  },
  {
   "cell_type": "code",
   "execution_count": null,
   "metadata": {
    "collapsed": false
   },
   "outputs": [],
   "source": []
  },
  {
   "cell_type": "markdown",
   "metadata": {},
   "source": [
    "---\n",
    "\n",
    "### 21. Create a list of just the people's names."
   ]
  },
  {
   "cell_type": "code",
   "execution_count": null,
   "metadata": {
    "collapsed": false
   },
   "outputs": [],
   "source": []
  },
  {
   "cell_type": "markdown",
   "metadata": {},
   "source": [
    "---\n",
    "\n",
    "### 22. Picking a name at random: odds of choosing the same name 3 times in a row.\n",
    "\n",
    "Now we'll use a while-loop to \"brute force\" the odds of choosing the same name 3 times in a row randomly from the list of names.\n",
    "\n",
    "Below I've imported the **`random`** package, which has the essential function for this code **`random.choice()`**.\n",
    "The function takes a list as an argument, and returns one of the elements of that list at random."
   ]
  },
  {
   "cell_type": "code",
   "execution_count": 16,
   "metadata": {
    "collapsed": true
   },
   "outputs": [],
   "source": [
    "import random\n"
   ]
  },
  {
   "cell_type": "markdown",
   "metadata": {},
   "source": [
    "Write a function to choose a person from the list randomly 3 times and check if they are all the same\n",
    "\n",
    "Define a function that has the following properties:\n",
    "\n",
    "1. Takes a list (your list of names) as an argument.\n",
    "2. Selects a name using `random.choice(people)` three separate times.\n",
    "3. Returns `True` if the name was the same all three times. Otherwise returns `False`."
   ]
  },
  {
   "cell_type": "code",
   "execution_count": null,
   "metadata": {
    "collapsed": true
   },
   "outputs": [],
   "source": []
  },
  {
   "cell_type": "markdown",
   "metadata": {},
   "source": [
    "---\n",
    "\n",
    "### 23. Construct a while loop to run the choosing function until it returns True.\n",
    "\n",
    "Run the function until you draw the same person 3 times using a while-loop. Keep track of how many tries it took and print out the number of tries after it runs."
   ]
  },
  {
   "cell_type": "code",
   "execution_count": null,
   "metadata": {
    "collapsed": false
   },
   "outputs": [],
   "source": []
  }
 ],
 "metadata": {
  "anaconda-cloud": {},
  "kernelspec": {
   "display_name": "Python [conda root]",
   "language": "python",
   "name": "conda-root-py"
  },
  "language_info": {
   "codemirror_mode": {
    "name": "ipython",
    "version": 2
   },
   "file_extension": ".py",
   "mimetype": "text/x-python",
   "name": "python",
   "nbconvert_exporter": "python",
   "pygments_lexer": "ipython2",
   "version": "2.7.12"
  }
 },
 "nbformat": 4,
 "nbformat_minor": 0
}
